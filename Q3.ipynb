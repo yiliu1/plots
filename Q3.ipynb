{
 "cells": [
  {
   "cell_type": "markdown",
   "metadata": {},
   "source": [
    "# Music streaming is ubiquitous. \n",
    "## Currently, Spotify plays an important part on that. \n",
    "## This dataset enable us to explore how artists and songs' popularity varies in time."
   ]
  },
  {
   "cell_type": "markdown",
   "metadata": {},
   "source": [
    "# data can be accessed https://www.kaggle.com/edumucelli/spotifys-worldwide-daily-song-ranking"
   ]
  },
  {
   "cell_type": "code",
   "execution_count": 2,
   "metadata": {
    "collapsed": true
   },
   "outputs": [],
   "source": [
    "import  numpy as np\n",
    "import  pandas as pd\n",
    "import matplotlib.pyplot as plt\n",
    "from collections import Counter\n",
    "%matplotlib inline "
   ]
  },
  {
   "cell_type": "code",
   "execution_count": 3,
   "metadata": {},
   "outputs": [],
   "source": [
    "data=pd.read_csv(\"/Users/yi/Downloads/data.csv\",low_memory=False)"
   ]
  },
  {
   "cell_type": "code",
   "execution_count": 4,
   "metadata": {},
   "outputs": [
    {
     "data": {
      "text/html": [
       "<div>\n",
       "<style>\n",
       "    .dataframe thead tr:only-child th {\n",
       "        text-align: right;\n",
       "    }\n",
       "\n",
       "    .dataframe thead th {\n",
       "        text-align: left;\n",
       "    }\n",
       "\n",
       "    .dataframe tbody tr th {\n",
       "        vertical-align: top;\n",
       "    }\n",
       "</style>\n",
       "<table border=\"1\" class=\"dataframe\">\n",
       "  <thead>\n",
       "    <tr style=\"text-align: right;\">\n",
       "      <th></th>\n",
       "      <th>Position</th>\n",
       "      <th>Track Name</th>\n",
       "      <th>Artist</th>\n",
       "      <th>Streams</th>\n",
       "      <th>URL</th>\n",
       "      <th>Date</th>\n",
       "      <th>Region</th>\n",
       "    </tr>\n",
       "  </thead>\n",
       "  <tbody>\n",
       "    <tr>\n",
       "      <th>0</th>\n",
       "      <td>1</td>\n",
       "      <td>Reggaetón Lento (Bailemos)</td>\n",
       "      <td>CNCO</td>\n",
       "      <td>19272</td>\n",
       "      <td>https://open.spotify.com/track/3AEZUABDXNtecAO...</td>\n",
       "      <td>2017-01-01</td>\n",
       "      <td>ec</td>\n",
       "    </tr>\n",
       "    <tr>\n",
       "      <th>1</th>\n",
       "      <td>2</td>\n",
       "      <td>Chantaje</td>\n",
       "      <td>Shakira</td>\n",
       "      <td>19270</td>\n",
       "      <td>https://open.spotify.com/track/6mICuAdrwEjh6Y6...</td>\n",
       "      <td>2017-01-01</td>\n",
       "      <td>ec</td>\n",
       "    </tr>\n",
       "    <tr>\n",
       "      <th>2</th>\n",
       "      <td>3</td>\n",
       "      <td>Otra Vez (feat. J Balvin)</td>\n",
       "      <td>Zion &amp; Lennox</td>\n",
       "      <td>15761</td>\n",
       "      <td>https://open.spotify.com/track/3QwBODjSEzelZyV...</td>\n",
       "      <td>2017-01-01</td>\n",
       "      <td>ec</td>\n",
       "    </tr>\n",
       "  </tbody>\n",
       "</table>\n",
       "</div>"
      ],
      "text/plain": [
       "   Position                  Track Name         Artist  Streams  \\\n",
       "0         1  Reggaetón Lento (Bailemos)           CNCO    19272   \n",
       "1         2                    Chantaje        Shakira    19270   \n",
       "2         3   Otra Vez (feat. J Balvin)  Zion & Lennox    15761   \n",
       "\n",
       "                                                 URL        Date Region  \n",
       "0  https://open.spotify.com/track/3AEZUABDXNtecAO...  2017-01-01     ec  \n",
       "1  https://open.spotify.com/track/6mICuAdrwEjh6Y6...  2017-01-01     ec  \n",
       "2  https://open.spotify.com/track/3QwBODjSEzelZyV...  2017-01-01     ec  "
      ]
     },
     "execution_count": 4,
     "metadata": {},
     "output_type": "execute_result"
    }
   ],
   "source": [
    "data.head(3)"
   ]
  },
  {
   "cell_type": "markdown",
   "metadata": {},
   "source": [
    "# The most five popular artists"
   ]
  },
  {
   "cell_type": "code",
   "execution_count": 11,
   "metadata": {
    "collapsed": true
   },
   "outputs": [],
   "source": [
    "artists=Counter(data['Artist']).most_common(5)"
   ]
  },
  {
   "cell_type": "code",
   "execution_count": 24,
   "metadata": {
    "collapsed": true
   },
   "outputs": [],
   "source": [
    "artists=np.array(artists)"
   ]
  },
  {
   "cell_type": "code",
   "execution_count": 34,
   "metadata": {
    "collapsed": true
   },
   "outputs": [],
   "source": [
    "artists_name=artists[:,0]\n",
    "number=artists[:,1].astype(int)"
   ]
  },
  {
   "cell_type": "code",
   "execution_count": 37,
   "metadata": {},
   "outputs": [
    {
     "data": {
      "text/plain": [
       "([<matplotlib.patches.Wedge at 0x118eb4c88>,\n",
       "  <matplotlib.patches.Wedge at 0x118ebbc88>,\n",
       "  <matplotlib.patches.Wedge at 0x118ed0048>,\n",
       "  <matplotlib.patches.Wedge at 0x118ed0ac8>,\n",
       "  <matplotlib.patches.Wedge at 0x118ed0dd8>],\n",
       " [Text(-0.940154,-0.571062,'Ed Sheeran'),\n",
       "  Text(0.853335,-0.694132,'The Chainsmokers'),\n",
       "  Text(0.982587,0.494492,'Drake'),\n",
       "  Text(0.269764,1.06641,'Calvin Harris'),\n",
       "  Text(-0.528058,0.964964,'Imagine Dragons')],\n",
       " [Text(-0.512811,-0.311488,'39.6%'),\n",
       "  Text(0.465456,-0.378617,'21.3%'),\n",
       "  Text(0.535957,0.269723,'15.3%'),\n",
       "  Text(0.147144,0.581677,'12.0%'),\n",
       "  Text(-0.288032,0.526344,'11.8%')])"
      ]
     },
     "execution_count": 37,
     "metadata": {},
     "output_type": "execute_result"
    },
    {
     "data": {
      "image/png": "[encoded data removed]",
      "text/plain": [
       "<matplotlib.figure.Figure at 0x118ec7198>"
      ]
     },
     "metadata": {},
     "output_type": "display_data"
    }
   ],
   "source": [
    "plt.pie(number, labels=artists_name, \n",
    "        autopct='%1.1f%%', shadow=True, startangle=140)"
   ]
  },
  {
   "cell_type": "markdown",
   "metadata": {},
   "source": [
    "# The most five popular songs"
   ]
  },
  {
   "cell_type": "code",
   "execution_count": 39,
   "metadata": {
    "collapsed": true
   },
   "outputs": [],
   "source": [
    "songs=Counter(data['Track Name']).most_common(5)"
   ]
  },
  {
   "cell_type": "code",
   "execution_count": 40,
   "metadata": {},
   "outputs": [
    {
     "data": {
      "text/plain": [
       "[('Shape of You', 19365),\n",
       " ('Believer', 16775),\n",
       " ('Despacito (Featuring Daddy Yankee)', 16284),\n",
       " ('Something Just Like This', 16194),\n",
       " ('Rockabye (feat. Sean Paul & Anne-Marie)', 16177)]"
      ]
     },
     "execution_count": 40,
     "metadata": {},
     "output_type": "execute_result"
    }
   ],
   "source": [
    "songs"
   ]
  },
  {
   "cell_type": "code",
   "execution_count": 42,
   "metadata": {},
   "outputs": [
    {
     "data": {
      "text/plain": [
       "([<matplotlib.patches.Wedge at 0x1185bfbe0>,\n",
       "  <matplotlib.patches.Wedge at 0x11e559cc0>,\n",
       "  <matplotlib.patches.Wedge at 0x11e54c518>,\n",
       "  <matplotlib.patches.Wedge at 0x114777d30>,\n",
       "  <matplotlib.patches.Wedge at 0x114778fd0>],\n",
       " [Text(-1.09979,-0.0212588,'Shape of You'),\n",
       "  Text(-0.232004,-1.07526,'Believer'),\n",
       "  Text(0.93286,-0.5829,'Despacito (Featuring Daddy Yankee)'),\n",
       "  Text(0.879147,0.661136,'Something Just Like This'),\n",
       "  Text(-0.296921,1.05917,'Rockabye (feat. Sean Paul & Anne-Marie)')],\n",
       " [Text(-0.599888,-0.0115957,'22.8%'),\n",
       "  Text(-0.126548,-0.586503,'19.8%'),\n",
       "  Text(0.508833,-0.317945,'19.2%'),\n",
       "  Text(0.479534,0.36062,'19.1%'),\n",
       "  Text(-0.161957,0.577728,'19.1%')])"
      ]
     },
     "execution_count": 42,
     "metadata": {},
     "output_type": "execute_result"
    },
    {
     "data": {
      "image/png": "[encoded data removed]",
      "text/plain": [
       "<matplotlib.figure.Figure at 0x118f6f780>"
      ]
     },
     "metadata": {},
     "output_type": "display_data"
    }
   ],
   "source": [
    "songs=np.array(songs)\n",
    "songs_name=songs[:,0]\n",
    "number=songs[:,1].astype(int)\n",
    "plt.pie(number, labels=songs_name, \n",
    "        autopct='%1.1f%%', shadow=True, startangle=140)"
   ]
  }
 ],
 "metadata": {
  "kernelspec": {
   "display_name": "Python 3",
   "language": "python",
   "name": "python3"
  },
  "language_info": {
   "codemirror_mode": {
    "name": "ipython",
    "version": 3
   },
   "file_extension": ".py",
   "mimetype": "text/x-python",
   "name": "python",
   "nbconvert_exporter": "python",
   "pygments_lexer": "ipython3",
   "version": "3.6.3"
  }
 },
 "nbformat": 4,
 "nbformat_minor": 2
}
